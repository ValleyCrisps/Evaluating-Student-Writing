{
 "cells": [
  {
   "cell_type": "markdown",
   "metadata": {},
   "source": [
    "# Experimenting with naive Bayes classifiers and linear support vector machine classifiers\n",
    "Reference: https://scikit-learn.org/stable/tutorial/text_analytics/working_with_text_data.html#extracting-features-from-text-files"
   ]
  },
  {
   "cell_type": "code",
   "execution_count": 2,
   "metadata": {},
   "outputs": [],
   "source": [
    "# import libraries\n",
    "import pandas as pd\n",
    "import matplotlib.pyplot as plt\n",
    "import numpy as np\n",
    "import seaborn as sns\n",
    "from sklearn import metrics\n",
    "from sklearn.feature_extraction.text import CountVectorizer\n",
    "from sklearn.feature_extraction.text import TfidfTransformer\n",
    "from sklearn.linear_model import SGDClassifier\n",
    "from sklearn.model_selection import GridSearchCV\n",
    "from sklearn.model_selection import train_test_split\n",
    "from sklearn.naive_bayes import MultinomialNB\n",
    "from sklearn.pipeline import Pipeline\n",
    "\n",
    "sns.set(rc={'axes.facecolor':'white'})\n"
   ]
  },
  {
   "cell_type": "code",
   "execution_count": 3,
   "metadata": {},
   "outputs": [
    {
     "name": "stdout",
     "output_type": "stream",
     "text": [
      "<class 'pandas.core.frame.DataFrame'>\n",
      "RangeIndex: 144293 entries, 0 to 144292\n",
      "Data columns (total 8 columns):\n",
      " #   Column              Non-Null Count   Dtype  \n",
      "---  ------              --------------   -----  \n",
      " 0   id                  144293 non-null  object \n",
      " 1   discourse_id        144293 non-null  float64\n",
      " 2   discourse_start     144293 non-null  float64\n",
      " 3   discourse_end       144293 non-null  float64\n",
      " 4   discourse_text      144293 non-null  object \n",
      " 5   discourse_type      144293 non-null  object \n",
      " 6   discourse_type_num  144293 non-null  object \n",
      " 7   predictionstring    144293 non-null  object \n",
      "dtypes: float64(3), object(5)\n",
      "memory usage: 8.8+ MB\n"
     ]
    }
   ],
   "source": [
    "# import dataset\n",
    "train_path = \"../data/train.csv\"\n",
    "\n",
    "train_data = pd.read_csv(train_path)\n",
    "train_data.info()"
   ]
  },
  {
   "cell_type": "markdown",
   "metadata": {},
   "source": [
    "## Pre-processing"
   ]
  },
  {
   "cell_type": "markdown",
   "metadata": {},
   "source": [
    "In order to verify the accuracy of the model prediction, it is customary in machine learning to split the dataset into a training set and a test set. The model is trained on the training set only, and then tested on the remaining data. The accuracy is compute by comparing the predicted values for the test set against the known values.\n",
    "\n",
    "Accuracy over the training set can be similarly measured. Hoverer a very high accuracy over the training set can be a result of overtraining and therefore be a poor predictor of how the model is going to perform on new data.\n",
    "\n",
    "We denote X the features (in this case, the text segments) and y the target variable (in this case, the discourse type)."
   ]
  },
  {
   "cell_type": "code",
   "execution_count": 4,
   "metadata": {},
   "outputs": [],
   "source": [
    "X = train_data['discourse_text']\n",
    "y = train_data['discourse_type']\n",
    "X_train, X_test, y_train, y_test = train_test_split(X, y, test_size=0.3, random_state=29)"
   ]
  },
  {
   "cell_type": "markdown",
   "metadata": {},
   "source": [
    "Use CountVectorizer to automatically builds a dictionary of features. \n",
    "Reference: https://scikit-learn.org/stable/modules/generated/sklearn.feature_extraction.text.CountVectorizer.html\n",
    "\n",
    "By default words are case insensitive. This feature can be manually switched off.\n",
    "\n",
    "The optional parameter stop_words can be passed to provide a list of words to ignore during the classification. There is default list for the English language, but it likely contains the very prepositions and conjunctions which are useful for this project.\n",
    "\n",
    "CountVectorizer also supports N-grams of words or consecutive characters, by passing in an optional parameter."
   ]
  },
  {
   "cell_type": "code",
   "execution_count": 5,
   "metadata": {},
   "outputs": [
    {
     "data": {
      "text/plain": [
       "(101005, 41751)"
      ]
     },
     "execution_count": 5,
     "metadata": {},
     "output_type": "execute_result"
    }
   ],
   "source": [
    "count_vect = CountVectorizer()\n",
    "X_train_counts = count_vect.fit_transform(X_train)\n",
    "X_train_counts.shape"
   ]
  },
  {
   "cell_type": "markdown",
   "metadata": {},
   "source": [
    "Once fitted, the vectorizer has built a dictionary of feature indices. \n",
    "\n",
    "The index value of a word in the vocabulary is linked to its frequency in the whole training corpus."
   ]
  },
  {
   "cell_type": "code",
   "execution_count": 6,
   "metadata": {},
   "outputs": [
    {
     "name": "stdout",
     "output_type": "stream",
     "text": [
      "2295\n",
      "5610\n"
     ]
    }
   ],
   "source": [
    "# sample usage\n",
    "print(count_vect.vocabulary_.get(u'and'))\n",
    "print(count_vect.vocabulary_.get(u'but'))"
   ]
  },
  {
   "cell_type": "markdown",
   "metadata": {},
   "source": [
    "Machine learning models tend to perform better on normalized data. For this reason, we use tf-idf (term frequency–inverse document frequency).  \n",
    "Reference: https://en.wikipedia.org/wiki/Tf%E2%80%93idf\n",
    "\n",
    "In simple terms, we consider frequencies instead of occurrences, and we also reduce the impact of words which are common in most of the text samples (e.g. 'the')."
   ]
  },
  {
   "cell_type": "code",
   "execution_count": 7,
   "metadata": {},
   "outputs": [
    {
     "data": {
      "text/plain": [
       "(101005, 41751)"
      ]
     },
     "execution_count": 7,
     "metadata": {},
     "output_type": "execute_result"
    }
   ],
   "source": [
    "tfidf_transformer = TfidfTransformer()\n",
    "X_train_tfidf = tfidf_transformer.fit_transform(X_train_counts)\n",
    "X_train_tfidf.shape\n"
   ]
  },
  {
   "cell_type": "markdown",
   "metadata": {},
   "source": [
    "## Multinomial classifier (naive Bayes)"
   ]
  },
  {
   "cell_type": "markdown",
   "metadata": {},
   "source": [
    "A multinomial classifier is a type of naive Bayesian classifier. It is naive in the sense that it computes the probability of each word appearing in any discourse type and uses the inferred probability distribution to make predictions on new data."
   ]
  },
  {
   "cell_type": "code",
   "execution_count": 8,
   "metadata": {},
   "outputs": [],
   "source": [
    "# create and train multinomial classifier\n",
    "clf = MultinomialNB().fit(X_train_tfidf, y_train)"
   ]
  },
  {
   "cell_type": "code",
   "execution_count": 9,
   "metadata": {},
   "outputs": [
    {
     "name": "stdout",
     "output_type": "stream",
     "text": [
      "text:   Students should not be allowed to design their summer projects \n",
      "predicted category:  Claim\n",
      "real category:  Position\n",
      "text:  Finally, The FACS could help find if students are depressed or having problems at home.\n",
      "predicted category:  Claim\n",
      "real category:  Claim\n",
      "text:  You might say that not all sports are right after school, and I'd say that is correct,\n",
      "predicted category:  Evidence\n",
      "real category:  Counterclaim\n",
      "text:  Every student should do at least 2 community services. Maybe one at home and one at school\n",
      "predicted category:  Claim\n",
      "real category:  Evidence\n",
      "text:  Social Skills are a key component of learning through any type of school. The interaction between other students is extremely valuable because it builds relationships and confidence. \n",
      "predicted category:  Claim\n",
      "real category:  Claim\n",
      "text:  Where as if I'm at home I can be free complete things on my time, I can take time on my assignments, I don't have to compare myself to others, and I can be me. At home there is no one to judge and I feel more comfortable to work at home.\n",
      "predicted category:  Evidence\n",
      "real category:  Rebuttal\n",
      "text:  They have to improve their grades to get what they want. And if they don't want to, then they shouldn't be allowed in sports. \n",
      "predicted category:  Claim\n",
      "real category:  Rebuttal\n",
      "text:  Also, due to the fact that the Electoral College mainly operates with the winner-take-all rule, it is easy for individuals in Democratic or Republican states to feel as if their vote doesn't matter. \n",
      "predicted category:  Evidence\n",
      "real category:  Claim\n",
      "text:  Secondly, with the technology we have today our team would've definitely knew something was up the first time we saw it \n",
      "predicted category:  Claim\n",
      "real category:  Claim\n",
      "text:  I believe that if you are too lazy to drive somewhere then you shouldn't be driving.\n",
      "predicted category:  Claim\n",
      "real category:  Claim\n"
     ]
    }
   ],
   "source": [
    "X_test_counts = count_vect.transform(X_test)\n",
    "X_test_tfidf = tfidf_transformer.transform(X_test_counts)\n",
    "\n",
    "predicted = clf.predict(X_test_tfidf)\n",
    "\n",
    "for i in range(10):\n",
    "  print('text: ', X_test.iloc[i])\n",
    "  print('predicted category: ', predicted[i])\n",
    "  print('real category: ', y_test.iloc[i])  "
   ]
  },
  {
   "cell_type": "code",
   "execution_count": 10,
   "metadata": {},
   "outputs": [],
   "source": [
    "# same thing with pipeline\n",
    "\n",
    "# text_clf = Pipeline([\n",
    "#   ('vect', CountVectorizer()),\n",
    "#   ('tfidf', TfidfTransformer()),\n",
    "#   ('clf', MultinomialNB()),\n",
    "# ])\n",
    "# text_clf.fit(X_train, y_train)\n"
   ]
  },
  {
   "cell_type": "markdown",
   "metadata": {},
   "source": [
    "## Performance - Multinomial Classifier"
   ]
  },
  {
   "cell_type": "code",
   "execution_count": 11,
   "metadata": {},
   "outputs": [
    {
     "name": "stdout",
     "output_type": "stream",
     "text": [
      "accuracy:  0.4969275549805951\n"
     ]
    }
   ],
   "source": [
    "accuracy = np.mean(predicted == y_test)\n",
    "print('accuracy: ', accuracy )"
   ]
  },
  {
   "cell_type": "markdown",
   "metadata": {},
   "source": [
    "...meh.\n",
    "\n",
    "\n",
    "Still, it is better than random!  \n",
    "With 7 categories, there is approximately a 14.2% chance to randomly get it right. \n",
    "\n",
    "It is a start.  \n",
    "Let us try to to understand what happened and where the model made most mistakes."
   ]
  },
  {
   "cell_type": "code",
   "execution_count": 12,
   "metadata": {},
   "outputs": [
    {
     "name": "stdout",
     "output_type": "stream",
     "text": [
      "                        all  train   test  all %  train %  test %\n",
      "Claim                 50208  35266  14942  34.80    34.92   34.52\n",
      "Evidence              45702  32073  13629  31.67    31.75   31.48\n",
      "Position              15419  10792   4627  10.69    10.68   10.69\n",
      "Concluding Statement  13505   9352   4153   9.36     9.26    9.59\n",
      "Lead                   9305   6513   2792   6.45     6.45    6.45\n",
      "Counterclaim           5817   4060   1757   4.03     4.02    4.06\n",
      "Rebuttal               4337   2949   1388   3.01     2.92    3.21\n"
     ]
    }
   ],
   "source": [
    "discourse_types = list(set(train_data[\"discourse_type\"]))\n",
    "all_value_counts = train_data[\"discourse_type\"].value_counts()\n",
    "train_value_counts = y_train.value_counts()\n",
    "test_value_counts = y_test.value_counts()\n",
    "\n",
    "def percent(array):\n",
    "  # array must constain at least a non-zero entry\n",
    "  tot = sum(array)\n",
    "  return [round((el / tot) * 100, 2) for el in array]\n",
    "\n",
    "value_counts = pd.DataFrame({\n",
    "    'all': all_value_counts.array, \n",
    "    'train': train_value_counts.array, \n",
    "    'test': test_value_counts.array,\n",
    "    'all %': percent(all_value_counts.array), \n",
    "    'train %': percent(train_value_counts.array), \n",
    "    'test %': percent(test_value_counts.array)\n",
    "  }, index=all_value_counts.index)\n",
    "print(value_counts)"
   ]
  },
  {
   "cell_type": "code",
   "execution_count": 13,
   "metadata": {},
   "outputs": [
    {
     "data": {
      "image/png": "[encoded data removed]",
      "text/plain": [
       "<Figure size 720x360 with 2 Axes>"
      ]
     },
     "metadata": {},
     "output_type": "display_data"
    }
   ],
   "source": [
    "\n",
    "confusion_matrix = metrics.confusion_matrix(\n",
    "  y_test, predicted, labels=clf.classes_)\n",
    "# print(confusion_matrix)\n",
    "\n",
    "fig, ax = plt.subplots(1, 1, figsize=(10, 5))\n",
    "sns.heatmap(confusion_matrix, annot=True, fmt='g', ax=ax, cmap=\"YlGnBu\")\n",
    "# annot=True to annotate cells, ftm='g' to disable scientific notation\n",
    "ax.set_xlabel('Predicted categories')\n",
    "ax.set_ylabel('True categories'); \n",
    "ax.set_title('Confusion Matrix'); \n",
    "ax.set_xticklabels(all_value_counts.index, rotation=90)\n",
    "ax.set_yticklabels(all_value_counts.index, rotation=0)\n",
    "plt.show()"
   ]
  },
  {
   "cell_type": "markdown",
   "metadata": {},
   "source": [
    "- The model never predicted 'Rebuttal' as a category. This category has the lowest number of samples in the dataset and it seems like it also has the least characteristic vocabulary. This may be the hardest category to correctly label even with more sophisticated algorithms.\n",
    "\n",
    "- Whenever the model predicted 'Position' or 'Lead', it got it right.However, many 'Position' and 'Lead' texts were mislabeled as other categories.\n",
    "\n",
    "- The most frequent mistake was the prediction of 'Concluding statement' where 'Claim' was the actual category."
   ]
  },
  {
   "cell_type": "markdown",
   "metadata": {},
   "source": [
    "## Linear Support Vector Machine Classifier  \n",
    "Reference: https://scikit-learn.org/stable/modules/generated/sklearn.linear_model.SGDClassifier.html"
   ]
  },
  {
   "cell_type": "code",
   "execution_count": 14,
   "metadata": {},
   "outputs": [],
   "source": [
    "clf2 = Pipeline([\n",
    "  ('vect', CountVectorizer()),\n",
    "  ('tfidf', TfidfTransformer()),\n",
    "  ('clf', SGDClassifier(loss='hinge', penalty='l2',\n",
    "                        alpha=1e-3, random_state=29,\n",
    "                        max_iter=5, tol=None)),\n",
    "])\n",
    "clf2.fit(X_train, y_train)\n",
    "predicted2 = clf2.predict(X_test)"
   ]
  },
  {
   "cell_type": "markdown",
   "metadata": {},
   "source": [
    "## Performance - Linear Support Vector Machine"
   ]
  },
  {
   "cell_type": "code",
   "execution_count": 15,
   "metadata": {},
   "outputs": [
    {
     "name": "stdout",
     "output_type": "stream",
     "text": [
      "accuracy:  0.5893781186472001\n"
     ]
    }
   ],
   "source": [
    "accuracy2 = np.mean(predicted2 == y_test)\n",
    "print('accuracy: ', accuracy2 )"
   ]
  },
  {
   "cell_type": "markdown",
   "metadata": {},
   "source": [
    "Linear support vector machine improves!"
   ]
  },
  {
   "cell_type": "code",
   "execution_count": 16,
   "metadata": {},
   "outputs": [
    {
     "data": {
      "image/png": "[encoded data removed]",
      "text/plain": [
       "<Figure size 720x360 with 2 Axes>"
      ]
     },
     "metadata": {},
     "output_type": "display_data"
    }
   ],
   "source": [
    "confusion_matrix2 = metrics.confusion_matrix(\n",
    "  y_test, predicted2, labels=clf2.classes_)\n",
    "# print(confusion_matrix)\n",
    "\n",
    "fig, ax = plt.subplots(1, 1, figsize=(10, 5))\n",
    "sns.heatmap(confusion_matrix2, annot=True, fmt='g', ax=ax, cmap=\"YlGnBu\")\n",
    "# annot=True to annotate cells, ftm='g' to disable scientific notation\n",
    "ax.set_xlabel('Predicted categories')\n",
    "ax.set_ylabel('True categories'); \n",
    "ax.set_title('Confusion Matrix'); \n",
    "ax.set_xticklabels(all_value_counts.index, rotation=90)\n",
    "ax.set_yticklabels(all_value_counts.index, rotation=0)\n",
    "plt.show()"
   ]
  },
  {
   "cell_type": "markdown",
   "metadata": {},
   "source": [
    "The support vector machine classifier overall made more correct predictions, but the errors are spread out compared to the multinomial classifier."
   ]
  },
  {
   "cell_type": "markdown",
   "metadata": {},
   "source": [
    "## Parameter fine tuning  \n",
    "Reference: https://scikit-learn.org/stable/modules/generated/sklearn.model_selection.GridSearchCV.html"
   ]
  },
  {
   "cell_type": "code",
   "execution_count": 17,
   "metadata": {},
   "outputs": [],
   "source": [
    "# all available parameters for this model\n",
    "# clf2.get_params()\n",
    "\n",
    "parameters = {\n",
    "  'vect__ngram_range': [(1, 1), (1, 2)],\n",
    "  # 'tfidf__use_idf': (True, False),\n",
    "  'clf__penalty': ['l2', 'l1', 'elasticnet'],\n",
    "  # 'clf__alpha': (1e-2, 1e-3),\n",
    "}\n"
   ]
  },
  {
   "cell_type": "code",
   "execution_count": 18,
   "metadata": {},
   "outputs": [],
   "source": [
    "# n_jobs = -1 automatically detects the number of CPUs and uses all of them\n",
    "gs_clf = GridSearchCV(clf2, parameters, cv=5, n_jobs=-1)\n",
    "gs_clf = gs_clf.fit(X_train, y_train)"
   ]
  },
  {
   "cell_type": "code",
   "execution_count": 19,
   "metadata": {},
   "outputs": [
    {
     "name": "stdout",
     "output_type": "stream",
     "text": [
      "clf__penalty: 'l2'\n",
      "vect__ngram_range: (1, 2)\n"
     ]
    }
   ],
   "source": [
    "gs_clf.best_score_\n",
    "for param_name in sorted(parameters.keys()):\n",
    "  print(\"%s: %r\" % (param_name, gs_clf.best_params_[param_name]))\n"
   ]
  },
  {
   "cell_type": "code",
   "execution_count": 21,
   "metadata": {},
   "outputs": [
    {
     "data": {
      "text/html": [
       "<div>\n",
       "<style scoped>\n",
       "    .dataframe tbody tr th:only-of-type {\n",
       "        vertical-align: middle;\n",
       "    }\n",
       "\n",
       "    .dataframe tbody tr th {\n",
       "        vertical-align: top;\n",
       "    }\n",
       "\n",
       "    .dataframe thead th {\n",
       "        text-align: right;\n",
       "    }\n",
       "</style>\n",
       "<table border=\"1\" class=\"dataframe\">\n",
       "  <thead>\n",
       "    <tr style=\"text-align: right;\">\n",
       "      <th></th>\n",
       "      <th>mean_fit_time</th>\n",
       "      <th>std_fit_time</th>\n",
       "      <th>mean_score_time</th>\n",
       "      <th>std_score_time</th>\n",
       "      <th>param_clf__penalty</th>\n",
       "      <th>param_vect__ngram_range</th>\n",
       "      <th>params</th>\n",
       "      <th>split0_test_score</th>\n",
       "      <th>split1_test_score</th>\n",
       "      <th>split2_test_score</th>\n",
       "      <th>split3_test_score</th>\n",
       "      <th>split4_test_score</th>\n",
       "      <th>mean_test_score</th>\n",
       "      <th>std_test_score</th>\n",
       "      <th>rank_test_score</th>\n",
       "    </tr>\n",
       "  </thead>\n",
       "  <tbody>\n",
       "    <tr>\n",
       "      <th>0</th>\n",
       "      <td>4.805552</td>\n",
       "      <td>0.108322</td>\n",
       "      <td>0.671379</td>\n",
       "      <td>0.084768</td>\n",
       "      <td>l2</td>\n",
       "      <td>(1, 1)</td>\n",
       "      <td>{'clf__penalty': 'l2', 'vect__ngram_range': (1...</td>\n",
       "      <td>0.594674</td>\n",
       "      <td>0.591951</td>\n",
       "      <td>0.592495</td>\n",
       "      <td>0.594575</td>\n",
       "      <td>0.593584</td>\n",
       "      <td>0.593456</td>\n",
       "      <td>0.001090</td>\n",
       "      <td>2</td>\n",
       "    </tr>\n",
       "    <tr>\n",
       "      <th>1</th>\n",
       "      <td>17.426820</td>\n",
       "      <td>1.122406</td>\n",
       "      <td>2.090081</td>\n",
       "      <td>0.247928</td>\n",
       "      <td>l2</td>\n",
       "      <td>(1, 2)</td>\n",
       "      <td>{'clf__penalty': 'l2', 'vect__ngram_range': (1...</td>\n",
       "      <td>0.612791</td>\n",
       "      <td>0.604376</td>\n",
       "      <td>0.607544</td>\n",
       "      <td>0.608584</td>\n",
       "      <td>0.603633</td>\n",
       "      <td>0.607386</td>\n",
       "      <td>0.003281</td>\n",
       "      <td>1</td>\n",
       "    </tr>\n",
       "    <tr>\n",
       "      <th>2</th>\n",
       "      <td>5.259904</td>\n",
       "      <td>0.949999</td>\n",
       "      <td>0.624511</td>\n",
       "      <td>0.037118</td>\n",
       "      <td>l1</td>\n",
       "      <td>(1, 1)</td>\n",
       "      <td>{'clf__penalty': 'l1', 'vect__ngram_range': (1...</td>\n",
       "      <td>0.549577</td>\n",
       "      <td>0.536360</td>\n",
       "      <td>0.535370</td>\n",
       "      <td>0.544874</td>\n",
       "      <td>0.535964</td>\n",
       "      <td>0.540429</td>\n",
       "      <td>0.005754</td>\n",
       "      <td>5</td>\n",
       "    </tr>\n",
       "    <tr>\n",
       "      <th>3</th>\n",
       "      <td>27.165449</td>\n",
       "      <td>0.404602</td>\n",
       "      <td>2.041478</td>\n",
       "      <td>0.148935</td>\n",
       "      <td>l1</td>\n",
       "      <td>(1, 2)</td>\n",
       "      <td>{'clf__penalty': 'l1', 'vect__ngram_range': (1...</td>\n",
       "      <td>0.533785</td>\n",
       "      <td>0.521657</td>\n",
       "      <td>0.530914</td>\n",
       "      <td>0.521608</td>\n",
       "      <td>0.518638</td>\n",
       "      <td>0.525321</td>\n",
       "      <td>0.005913</td>\n",
       "      <td>6</td>\n",
       "    </tr>\n",
       "    <tr>\n",
       "      <th>4</th>\n",
       "      <td>6.148681</td>\n",
       "      <td>1.078661</td>\n",
       "      <td>0.746536</td>\n",
       "      <td>0.101361</td>\n",
       "      <td>elasticnet</td>\n",
       "      <td>(1, 1)</td>\n",
       "      <td>{'clf__penalty': 'elasticnet', 'vect__ngram_ra...</td>\n",
       "      <td>0.574427</td>\n",
       "      <td>0.568982</td>\n",
       "      <td>0.571754</td>\n",
       "      <td>0.569823</td>\n",
       "      <td>0.571259</td>\n",
       "      <td>0.571249</td>\n",
       "      <td>0.001872</td>\n",
       "      <td>4</td>\n",
       "    </tr>\n",
       "    <tr>\n",
       "      <th>5</th>\n",
       "      <td>24.296715</td>\n",
       "      <td>0.662828</td>\n",
       "      <td>1.851474</td>\n",
       "      <td>0.217900</td>\n",
       "      <td>elasticnet</td>\n",
       "      <td>(1, 2)</td>\n",
       "      <td>{'clf__penalty': 'elasticnet', 'vect__ngram_ra...</td>\n",
       "      <td>0.576457</td>\n",
       "      <td>0.569081</td>\n",
       "      <td>0.572546</td>\n",
       "      <td>0.575219</td>\n",
       "      <td>0.569675</td>\n",
       "      <td>0.572595</td>\n",
       "      <td>0.002922</td>\n",
       "      <td>3</td>\n",
       "    </tr>\n",
       "  </tbody>\n",
       "</table>\n",
       "</div>"
      ],
      "text/plain": [
       "   mean_fit_time  std_fit_time  mean_score_time  std_score_time  \\\n",
       "0       4.805552      0.108322         0.671379        0.084768   \n",
       "1      17.426820      1.122406         2.090081        0.247928   \n",
       "2       5.259904      0.949999         0.624511        0.037118   \n",
       "3      27.165449      0.404602         2.041478        0.148935   \n",
       "4       6.148681      1.078661         0.746536        0.101361   \n",
       "5      24.296715      0.662828         1.851474        0.217900   \n",
       "\n",
       "  param_clf__penalty param_vect__ngram_range  \\\n",
       "0                 l2                  (1, 1)   \n",
       "1                 l2                  (1, 2)   \n",
       "2                 l1                  (1, 1)   \n",
       "3                 l1                  (1, 2)   \n",
       "4         elasticnet                  (1, 1)   \n",
       "5         elasticnet                  (1, 2)   \n",
       "\n",
       "                                              params  split0_test_score  \\\n",
       "0  {'clf__penalty': 'l2', 'vect__ngram_range': (1...           0.594674   \n",
       "1  {'clf__penalty': 'l2', 'vect__ngram_range': (1...           0.612791   \n",
       "2  {'clf__penalty': 'l1', 'vect__ngram_range': (1...           0.549577   \n",
       "3  {'clf__penalty': 'l1', 'vect__ngram_range': (1...           0.533785   \n",
       "4  {'clf__penalty': 'elasticnet', 'vect__ngram_ra...           0.574427   \n",
       "5  {'clf__penalty': 'elasticnet', 'vect__ngram_ra...           0.576457   \n",
       "\n",
       "   split1_test_score  split2_test_score  split3_test_score  split4_test_score  \\\n",
       "0           0.591951           0.592495           0.594575           0.593584   \n",
       "1           0.604376           0.607544           0.608584           0.603633   \n",
       "2           0.536360           0.535370           0.544874           0.535964   \n",
       "3           0.521657           0.530914           0.521608           0.518638   \n",
       "4           0.568982           0.571754           0.569823           0.571259   \n",
       "5           0.569081           0.572546           0.575219           0.569675   \n",
       "\n",
       "   mean_test_score  std_test_score  rank_test_score  \n",
       "0         0.593456        0.001090                2  \n",
       "1         0.607386        0.003281                1  \n",
       "2         0.540429        0.005754                5  \n",
       "3         0.525321        0.005913                6  \n",
       "4         0.571249        0.001872                4  \n",
       "5         0.572595        0.002922                3  "
      ]
     },
     "execution_count": 21,
     "metadata": {},
     "output_type": "execute_result"
    }
   ],
   "source": [
    "results_df = pd.DataFrame(gs_clf.cv_results_)\n",
    "results_df\n"
   ]
  },
  {
   "cell_type": "code",
   "execution_count": null,
   "metadata": {},
   "outputs": [],
   "source": []
  }
 ],
 "metadata": {
  "interpreter": {
   "hash": "e7370f93d1d0cde622a1f8e1c04877d8463912d04d973331ad4851f04de6915a"
  },
  "kernelspec": {
   "display_name": "Python 3.10.2 64-bit",
   "language": "python",
   "name": "python3"
  },
  "language_info": {
   "codemirror_mode": {
    "name": "ipython",
    "version": 3
   },
   "file_extension": ".py",
   "mimetype": "text/x-python",
   "name": "python",
   "nbconvert_exporter": "python",
   "pygments_lexer": "ipython3",
   "version": "3.10.2"
  },
  "orig_nbformat": 4
 },
 "nbformat": 4,
 "nbformat_minor": 2
}
