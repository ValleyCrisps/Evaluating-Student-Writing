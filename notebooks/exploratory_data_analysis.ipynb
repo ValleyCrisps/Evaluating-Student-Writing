{
 "cells": [
  {
   "cell_type": "markdown",
   "metadata": {},
   "source": [
    "# Exploratory Data Analysis\n"
   ]
  },
  {
   "cell_type": "code",
   "execution_count": 4,
   "metadata": {},
   "outputs": [],
   "source": [
    "# import libraries\n",
    "import matplotlib.pyplot as plt\n",
    "import pandas as pd\n",
    "import seaborn as sns\n",
    "\n",
    "sns.set(rc={'axes.facecolor':'white'})\n"
   ]
  },
  {
   "cell_type": "code",
   "execution_count": 5,
   "metadata": {},
   "outputs": [],
   "source": [
    "# import datasets\n",
    "train_path = \"../data/train.csv\"\n",
    "\n",
    "train_data = pd.read_csv(train_path)"
   ]
  },
  {
   "cell_type": "code",
   "execution_count": 7,
   "metadata": {},
   "outputs": [
    {
     "data": {
      "text/plain": [
       "Index(['id', 'discourse_id', 'discourse_start', 'discourse_end',\n",
       "       'discourse_text', 'discourse_type', 'discourse_type_num',\n",
       "       'predictionstring'],\n",
       "      dtype='object')"
      ]
     },
     "execution_count": 7,
     "metadata": {},
     "output_type": "execute_result"
    }
   ],
   "source": [
    "# inspect dataset\n",
    "train_data.columns"
   ]
  },
  {
   "cell_type": "code",
   "execution_count": 8,
   "metadata": {},
   "outputs": [
    {
     "data": {
      "text/plain": [
       "(144293, 8)"
      ]
     },
     "execution_count": 8,
     "metadata": {},
     "output_type": "execute_result"
    }
   ],
   "source": [
    "train_data.shape"
   ]
  },
  {
   "cell_type": "code",
   "execution_count": 9,
   "metadata": {},
   "outputs": [
    {
     "data": {
      "text/html": [
       "<div>\n",
       "<style scoped>\n",
       "    .dataframe tbody tr th:only-of-type {\n",
       "        vertical-align: middle;\n",
       "    }\n",
       "\n",
       "    .dataframe tbody tr th {\n",
       "        vertical-align: top;\n",
       "    }\n",
       "\n",
       "    .dataframe thead th {\n",
       "        text-align: right;\n",
       "    }\n",
       "</style>\n",
       "<table border=\"1\" class=\"dataframe\">\n",
       "  <thead>\n",
       "    <tr style=\"text-align: right;\">\n",
       "      <th></th>\n",
       "      <th>id</th>\n",
       "      <th>discourse_id</th>\n",
       "      <th>discourse_start</th>\n",
       "      <th>discourse_end</th>\n",
       "      <th>discourse_text</th>\n",
       "      <th>discourse_type</th>\n",
       "      <th>discourse_type_num</th>\n",
       "      <th>predictionstring</th>\n",
       "    </tr>\n",
       "  </thead>\n",
       "  <tbody>\n",
       "    <tr>\n",
       "      <th>0</th>\n",
       "      <td>423A1CA112E2</td>\n",
       "      <td>1.622628e+12</td>\n",
       "      <td>8.0</td>\n",
       "      <td>229.0</td>\n",
       "      <td>Modern humans today are always on their phone....</td>\n",
       "      <td>Lead</td>\n",
       "      <td>Lead 1</td>\n",
       "      <td>1 2 3 4 5 6 7 8 9 10 11 12 13 14 15 16 17 18 1...</td>\n",
       "    </tr>\n",
       "    <tr>\n",
       "      <th>1</th>\n",
       "      <td>423A1CA112E2</td>\n",
       "      <td>1.622628e+12</td>\n",
       "      <td>230.0</td>\n",
       "      <td>312.0</td>\n",
       "      <td>They are some really bad consequences when stu...</td>\n",
       "      <td>Position</td>\n",
       "      <td>Position 1</td>\n",
       "      <td>45 46 47 48 49 50 51 52 53 54 55 56 57 58 59</td>\n",
       "    </tr>\n",
       "    <tr>\n",
       "      <th>2</th>\n",
       "      <td>423A1CA112E2</td>\n",
       "      <td>1.622628e+12</td>\n",
       "      <td>313.0</td>\n",
       "      <td>401.0</td>\n",
       "      <td>Some certain areas in the United States ban ph...</td>\n",
       "      <td>Evidence</td>\n",
       "      <td>Evidence 1</td>\n",
       "      <td>60 61 62 63 64 65 66 67 68 69 70 71 72 73 74 75</td>\n",
       "    </tr>\n",
       "    <tr>\n",
       "      <th>3</th>\n",
       "      <td>423A1CA112E2</td>\n",
       "      <td>1.622628e+12</td>\n",
       "      <td>402.0</td>\n",
       "      <td>758.0</td>\n",
       "      <td>When people have phones, they know about certa...</td>\n",
       "      <td>Evidence</td>\n",
       "      <td>Evidence 2</td>\n",
       "      <td>76 77 78 79 80 81 82 83 84 85 86 87 88 89 90 9...</td>\n",
       "    </tr>\n",
       "    <tr>\n",
       "      <th>4</th>\n",
       "      <td>423A1CA112E2</td>\n",
       "      <td>1.622628e+12</td>\n",
       "      <td>759.0</td>\n",
       "      <td>886.0</td>\n",
       "      <td>Driving is one of the way how to get around. P...</td>\n",
       "      <td>Claim</td>\n",
       "      <td>Claim 1</td>\n",
       "      <td>139 140 141 142 143 144 145 146 147 148 149 15...</td>\n",
       "    </tr>\n",
       "  </tbody>\n",
       "</table>\n",
       "</div>"
      ],
      "text/plain": [
       "             id  discourse_id  discourse_start  discourse_end  \\\n",
       "0  423A1CA112E2  1.622628e+12              8.0          229.0   \n",
       "1  423A1CA112E2  1.622628e+12            230.0          312.0   \n",
       "2  423A1CA112E2  1.622628e+12            313.0          401.0   \n",
       "3  423A1CA112E2  1.622628e+12            402.0          758.0   \n",
       "4  423A1CA112E2  1.622628e+12            759.0          886.0   \n",
       "\n",
       "                                      discourse_text discourse_type  \\\n",
       "0  Modern humans today are always on their phone....           Lead   \n",
       "1  They are some really bad consequences when stu...       Position   \n",
       "2  Some certain areas in the United States ban ph...       Evidence   \n",
       "3  When people have phones, they know about certa...       Evidence   \n",
       "4  Driving is one of the way how to get around. P...          Claim   \n",
       "\n",
       "  discourse_type_num                                   predictionstring  \n",
       "0             Lead 1  1 2 3 4 5 6 7 8 9 10 11 12 13 14 15 16 17 18 1...  \n",
       "1         Position 1       45 46 47 48 49 50 51 52 53 54 55 56 57 58 59  \n",
       "2         Evidence 1    60 61 62 63 64 65 66 67 68 69 70 71 72 73 74 75  \n",
       "3         Evidence 2  76 77 78 79 80 81 82 83 84 85 86 87 88 89 90 9...  \n",
       "4            Claim 1  139 140 141 142 143 144 145 146 147 148 149 15...  "
      ]
     },
     "execution_count": 9,
     "metadata": {},
     "output_type": "execute_result"
    }
   ],
   "source": [
    "train_data.head()"
   ]
  },
  {
   "cell_type": "markdown",
   "metadata": {},
   "source": [
    "### Check column data types and number of null entries.  \n",
    "\n",
    "In this case, no null entries were found. The data is clean and ready to be used."
   ]
  },
  {
   "cell_type": "code",
   "execution_count": 10,
   "metadata": {},
   "outputs": [
    {
     "name": "stdout",
     "output_type": "stream",
     "text": [
      "<class 'pandas.core.frame.DataFrame'>\n",
      "RangeIndex: 144293 entries, 0 to 144292\n",
      "Data columns (total 8 columns):\n",
      " #   Column              Non-Null Count   Dtype  \n",
      "---  ------              --------------   -----  \n",
      " 0   id                  144293 non-null  object \n",
      " 1   discourse_id        144293 non-null  float64\n",
      " 2   discourse_start     144293 non-null  float64\n",
      " 3   discourse_end       144293 non-null  float64\n",
      " 4   discourse_text      144293 non-null  object \n",
      " 5   discourse_type      144293 non-null  object \n",
      " 6   discourse_type_num  144293 non-null  object \n",
      " 7   predictionstring    144293 non-null  object \n",
      "dtypes: float64(3), object(5)\n",
      "memory usage: 8.8+ MB\n"
     ]
    }
   ],
   "source": [
    "train_data.info()"
   ]
  },
  {
   "cell_type": "markdown",
   "metadata": {},
   "source": [
    "### List all discourse type names"
   ]
  },
  {
   "cell_type": "code",
   "execution_count": 3,
   "metadata": {},
   "outputs": [
    {
     "name": "stdout",
     "output_type": "stream",
     "text": [
      "['Evidence', 'Counterclaim', 'Rebuttal', 'Concluding Statement', 'Position', 'Claim', 'Lead']\n"
     ]
    }
   ],
   "source": [
    "types = list(set(train_data[\"discourse_type\"]))\n",
    "print(types)"
   ]
  },
  {
   "cell_type": "code",
   "execution_count": 30,
   "metadata": {},
   "outputs": [
    {
     "data": {
      "text/plain": [
       "<Figure size 1152x576 with 0 Axes>"
      ]
     },
     "metadata": {},
     "output_type": "display_data"
    },
    {
     "data": {
      "image/png": "[encoded data removed]",
      "text/plain": [
       "<Figure size 960x720 with 1 Axes>"
      ]
     },
     "metadata": {},
     "output_type": "display_data"
    }
   ],
   "source": [
    "sns.set_style(\"ticks\",{'axes.grid' : True})\n",
    "plt.figure(figsize=(16,8))\n",
    "fig = sns.catplot(y=\"discourse_type\", data=train_data, kind=\"count\" , height=10, aspect=4/3)\n",
    "fig.set(\n",
    "    title=\"Number of discourses for each category\", ylabel=\"type\", xlabel=\"count\"\n",
    ")\n",
    "plt.show()"
   ]
  },
  {
   "cell_type": "markdown",
   "metadata": {},
   "source": [
    "Most common discourse types are 'Claim' and 'Evidence'.\n",
    "Least common types are 'Rebuttal' and 'Counterclaim'."
   ]
  },
  {
   "cell_type": "code",
   "execution_count": 7,
   "metadata": {},
   "outputs": [
    {
     "data": {
      "text/plain": [
       "<AxesSubplot:>"
      ]
     },
     "execution_count": 7,
     "metadata": {},
     "output_type": "execute_result"
    },
    {
     "data": {
      "image/png": "[encoded data removed]",
      "text/plain": [
       "<Figure size 432x288 with 2 Axes>"
      ]
     },
     "metadata": {},
     "output_type": "display_data"
    }
   ],
   "source": [
    "correlation_matrix = train_data.corr()\n",
    "sns.heatmap(correlation_matrix, annot=True)"
   ]
  },
  {
   "cell_type": "markdown",
   "metadata": {},
   "source": [
    "As expected, discourse_start and discourse_end are highly directly correlated.  \n",
    "Since correlations can only be computed for numerical data, further steps are needed before we can extract any useful information (e.g. correlation between given sets of words and discourse type, or between length of a discourse and its type)"
   ]
  },
  {
   "cell_type": "markdown",
   "metadata": {},
   "source": [
    "## Bag of Words Representation"
   ]
  },
  {
   "cell_type": "code",
   "execution_count": 16,
   "metadata": {},
   "outputs": [],
   "source": [
    "from sklearn.feature_extraction.text import CountVectorizer\n",
    "\n",
    "vectorizer = CountVectorizer()\n",
    "\n",
    "bow = vectorizer.fit_transform(train_data['discourse_text'][:1000])\n",
    "# not enough memory to run the above line of code without slicing the dataset"
   ]
  },
  {
   "cell_type": "code",
   "execution_count": 24,
   "metadata": {},
   "outputs": [
    {
     "name": "stdout",
     "output_type": "stream",
     "text": [
      "  (0, 1779)\t1\n",
      "  (0, 1361)\t1\n",
      "  (0, 2834)\t1\n",
      "  (0, 271)\t2\n",
      "  (0, 230)\t2\n",
      "  (0, 1931)\t3\n",
      "  (0, 2790)\t2\n",
      "  (0, 2042)\t2\n",
      "  (0, 2800)\t3\n",
      "  (0, 1791)\t1\n",
      "  (0, 2785)\t1\n",
      "  (0, 1352)\t1\n",
      "  (0, 753)\t1\n",
      "  (0, 1868)\t1\n",
      "  (0, 2639)\t1\n",
      "  (0, 208)\t1\n",
      "  (0, 869)\t2\n",
      "  (0, 1504)\t1\n",
      "  (0, 2781)\t1\n",
      "  (0, 339)\t1\n",
      "  (0, 242)\t2\n",
      "  (0, 1158)\t1\n",
      "  (0, 1528)\t1\n",
      "  (0, 1290)\t1\n",
      "  (0, 1244)\t1\n",
      "  :\t:\n",
      "  (999, 356)\t2\n",
      "  (999, 483)\t1\n",
      "  (999, 1954)\t1\n",
      "  (999, 1197)\t1\n",
      "  (999, 2951)\t1\n",
      "  (999, 2141)\t1\n",
      "  (999, 3092)\t1\n",
      "  (999, 2957)\t1\n",
      "  (999, 1355)\t1\n",
      "  (999, 1564)\t1\n",
      "  (999, 3114)\t1\n",
      "  (999, 898)\t1\n",
      "  (999, 3057)\t1\n",
      "  (999, 1777)\t1\n",
      "  (999, 2559)\t1\n",
      "  (999, 1818)\t1\n",
      "  (999, 1271)\t2\n",
      "  (999, 1163)\t1\n",
      "  (999, 2855)\t1\n",
      "  (999, 419)\t1\n",
      "  (999, 2442)\t1\n",
      "  (999, 2825)\t1\n",
      "  (999, 2984)\t1\n",
      "  (999, 2974)\t1\n",
      "  (999, 1683)\t1\n",
      "[[0 0 0 ... 0 0 0]\n",
      " [0 0 0 ... 0 0 0]\n",
      " [0 0 0 ... 0 0 0]\n",
      " ...\n",
      " [0 0 0 ... 0 0 0]\n",
      " [0 0 0 ... 0 0 0]\n",
      " [0 0 0 ... 0 0 0]]\n"
     ]
    }
   ],
   "source": [
    "print(bow)\n",
    "bow_array = bow.toarray()\n",
    "print(bow_array)\n"
   ]
  },
  {
   "cell_type": "code",
   "execution_count": 38,
   "metadata": {},
   "outputs": [
    {
     "name": "stdout",
     "output_type": "stream",
     "text": [
      "['00' '000' '054' ... 'zakhareuski' 'zone' 'zoning']\n"
     ]
    }
   ],
   "source": [
    "bow_words = vectorizer.get_feature_names_out()\n",
    "print(bow_words)"
   ]
  },
  {
   "cell_type": "markdown",
   "metadata": {},
   "source": [
    "### Find most common words"
   ]
  },
  {
   "cell_type": "code",
   "execution_count": 63,
   "metadata": {},
   "outputs": [
    {
     "name": "stdout",
     "output_type": "stream",
     "text": [
      "[1809 1489 1162  944  900  824  764  731  679  674  643  624  529  523\n",
      "  521  491  467  447  432  404  393  371  358  352  332  324  306  289\n",
      "  271  250  246  239  237  221  215  211  199  186  186  186  183  183\n",
      "  180  178  176  175  160  159  147  144  143  142  139  139  138  138\n",
      "  134  133  131  130  130  126  125  125  123  122  118  117  113  112\n",
      "  109  108  106   98   93   90   90   89   89   87   87   83   82   81\n",
      "   80   79   79   78   78   76   74   74   73   72   71   71   71   70\n",
      "   70   70]\n",
      "[2789 2833  242  899 1913 3111 1504 1405 3046 2788 2042 1510  356 1931\n",
      "  271 3114  483 2016 2043 1954 1877  521 2790 2800 1290 1147 2783 2951\n",
      "  358 1372 2486  489  897 2370 2810 3069  302  459  290 2957 1791  136\n",
      "  240 2781 2794  465 1691 3039 1168  895 1934 1197  223 2830 1528  512\n",
      " 3019  869  208  691 3057 2968 2552  742 1601  852  133  893  372 1015\n",
      " 2563 1286 1962 1628  878 2791 1938 2560  122 3048 2936 1793 2364  253\n",
      " 1564  121  311 2785 2033 2804 1967 2618 2728 2202 1943  471 3010 1844\n",
      " 3092 3053]\n",
      "['the', 'to', 'and', 'driving', 'of', 'you', 'is', 'in', 'while', 'that', 'phone', 'it', 'be', 'on', 'are', 'your', 'can', 'people', 'phones', 'or', 'not', 'cell', 'their', 'they', 'have', 'for', 'texting', 'use', 'because', 'if', 'should', 'car', 'drivers', 'road', 'this', 'with', 'at', 'but', 'as', 'using', 'more', 'accidents', 'an', 'text', 'there', 'by', 'many', 'when', 'from', 'driver', 'one', 'get', 'also', 'time', 'just', 'cause', 'we', 'do', 'all', 'could', 'will', 'vehicle', 'so', 'dangerous', 'life', 'distracted', 'accident', 'drive', 'being', 'even', 'someone', 'has', 'other', 'lives', 'don', 'them', 'only', 'some', 'about', 'who', 'up', 'most', 'risk', 'any', 'law', 'able', 'attention', 'than', 'person', 'think', 'our', 'states', 'take', 'put', 'operating', 'call', 'was', 'need', 'would', 'why']\n"
     ]
    }
   ],
   "source": [
    "import numpy as np\n",
    "\n",
    "n_common_words = 100\n",
    "\n",
    "frequencies = np.array([sum(x) for x in zip(*bow_array)])\n",
    "sorted_frequencies = np.sort(frequencies)\n",
    "# [::-1] reverses the array\n",
    "print(sorted_frequencies[::-1][: n_common_words])\n",
    "\n",
    "sorted_frequency_indices = np.argsort(frequencies)\n",
    "most_common_indices = sorted_frequency_indices[::-1][: n_common_words]\n",
    "print(most_common_indices)\n",
    "\n",
    "most_common_words = [bow_words[i] for i in most_common_indices]\n",
    "print(most_common_words)"
   ]
  },
  {
   "cell_type": "code",
   "execution_count": 48,
   "metadata": {},
   "outputs": [
    {
     "name": "stdout",
     "output_type": "stream",
     "text": [
      "3\n"
     ]
    }
   ],
   "source": []
  },
  {
   "cell_type": "code",
   "execution_count": null,
   "metadata": {},
   "outputs": [],
   "source": []
  }
 ],
 "metadata": {
  "interpreter": {
   "hash": "e7370f93d1d0cde622a1f8e1c04877d8463912d04d973331ad4851f04de6915a"
  },
  "kernelspec": {
   "display_name": "Python 3.10.1 64-bit",
   "name": "python3"
  },
  "language_info": {
   "codemirror_mode": {
    "name": "ipython",
    "version": 3
   },
   "file_extension": ".py",
   "mimetype": "text/x-python",
   "name": "python",
   "nbconvert_exporter": "python",
   "pygments_lexer": "ipython3",
   "version": "3.10.1"
  },
  "orig_nbformat": 4
 },
 "nbformat": 4,
 "nbformat_minor": 2
}
